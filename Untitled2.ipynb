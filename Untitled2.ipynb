{
 "cells": [
  {
   "cell_type": "code",
   "execution_count": 445,
   "id": "62015f6e",
   "metadata": {},
   "outputs": [],
   "source": [
    "import urllib.request"
   ]
  },
  {
   "cell_type": "code",
   "execution_count": 446,
   "id": "4304b57c",
   "metadata": {},
   "outputs": [],
   "source": [
    "import urllib.parse"
   ]
  },
  {
   "cell_type": "code",
   "execution_count": 447,
   "id": "19861b15",
   "metadata": {},
   "outputs": [],
   "source": [
    "import urllib.error"
   ]
  },
  {
   "cell_type": "code",
   "execution_count": 448,
   "id": "ca842d26",
   "metadata": {},
   "outputs": [],
   "source": [
    "import pandas as pd"
   ]
  },
  {
   "cell_type": "code",
   "execution_count": 449,
   "id": "84639f2e",
   "metadata": {},
   "outputs": [],
   "source": [
    "import json"
   ]
  },
  {
   "cell_type": "code",
   "execution_count": 450,
   "id": "47c9bf80",
   "metadata": {},
   "outputs": [],
   "source": [
    "with open(\"dests.txt\", \"r\") as file:\n",
    "    destinations = file.read().splitlines()"
   ]
  },
  {
   "cell_type": "code",
   "execution_count": null,
   "id": "46077f56",
   "metadata": {},
   "outputs": [],
   "source": []
  },
  {
   "cell_type": "code",
   "execution_count": 451,
   "id": "6acb55fe",
   "metadata": {},
   "outputs": [],
   "source": [
    "def get_distance(destination):\n",
    "    base_url = \"https://maps.googleapis.com/maps/api/distancematrix/json\"\n",
    "    geocode_url = \"https://maps.googleapis.com/maps/api/geocode/json\"\n",
    "    origins = \"Tel%20Aviv\"\n",
    "    destination = urllib.parse.quote(destination)\n",
    "    api_key = \"\"\n",
    "\n",
    "    # Get latitude and longitude using Geocoding API\n",
    "    geocode_params = f\"address={destination}&key={api_key}\"\n",
    "    geocode_response = urllib.request.urlopen(f\"{geocode_url}?{geocode_params}\")\n",
    "    geocode_data = json.loads(geocode_response.read().decode())\n",
    "\n",
    "    if geocode_data[\"status\"] == \"OK\":\n",
    "        latitude = geocode_data[\"results\"][0][\"geometry\"][\"location\"][\"lat\"]\n",
    "        longitude = geocode_data[\"results\"][0][\"geometry\"][\"location\"][\"lng\"]\n",
    "    else:\n",
    "        print(f\"Failed to retrieve geocode data for {destination}. Error: {geocode_data['status']}\")\n",
    "        return None, None, None, None\n",
    "\n",
    "    # Get distance and duration using Distance Matrix API\n",
    "    distance_params = f\"origins={origins}&destinations={destination}&key={api_key}\"\n",
    "    distance_response = urllib.request.urlopen(f\"{base_url}?{distance_params}\")\n",
    "    distance_data = json.loads(distance_response.read().decode())\n",
    "\n",
    "    if distance_data[\"status\"] == \"OK\":\n",
    "        distance = distance_data[\"rows\"][0][\"elements\"][0][\"distance\"][\"value\"]\n",
    "        duration = distance_data[\"rows\"][0][\"elements\"][0][\"duration\"][\"value\"]\n",
    "\n",
    "        distance_km = distance / 1000\n",
    "        hours = duration // 3600\n",
    "        minutes = (duration % 3600) // 60\n",
    "        duration_str = f\"{hours} hours and {minutes} minutes\"\n",
    "\n",
    "        return distance_km, duration_str, latitude, longitude\n",
    "    else:\n",
    "        print(f\"Failed to retrieve the distance for {destination}. Error: {distance_data['status']}\")\n",
    "        return None, None, None, None\n"
   ]
  },
  {
   "cell_type": "code",
   "execution_count": 452,
   "id": "53cd4759",
   "metadata": {},
   "outputs": [],
   "source": [
    "#df = pd.DataFrame(columns=[\"Target\", \"Distance_km\", \"Duration (hour+minutes)\", \"Latitude\", \"Longitude\"])\n",
    "rows = []"
   ]
  },
  {
   "cell_type": "code",
   "execution_count": null,
   "id": "1952c917",
   "metadata": {},
   "outputs": [],
   "source": []
  },
  {
   "cell_type": "code",
   "execution_count": 453,
   "id": "ddb10453",
   "metadata": {},
   "outputs": [],
   "source": [
    "for destination in destinations:\n",
    "    distance, duration, latitude, longitude = get_distance(destination)\n",
    "\n",
    "    if distance is not None and duration is not None and latitude is not None and longitude is not None:\n",
    "        new_row = {'Target': destination, 'Distance_km': distance, 'Duration (hour+minutes)': duration, 'Latitude': latitude, 'Longitude': longitude}\n",
    "        rows.append(new_row)\n",
    "    else:\n",
    "        print(f\"Failed to retrieve the distance for {destination}.\")"
   ]
  },
  {
   "cell_type": "code",
   "execution_count": 454,
   "id": "752ffa7f",
   "metadata": {},
   "outputs": [],
   "source": [
    "df = pd.DataFrame(rows, columns=[\"Target\", \"Distance_km\", \"Duration (hour+minutes)\", \"Latitude\", \"Longitude\"])"
   ]
  },
  {
   "cell_type": "code",
   "execution_count": 455,
   "id": "ea57c6e1",
   "metadata": {},
   "outputs": [
    {
     "name": "stdout",
     "output_type": "stream",
     "text": [
      "      Target  Distance_km  Duration (hour+minutes)   Latitude  Longitude\n",
      "0   Istanbul     1815.227   21 hours and 2 minutes  41.008238  28.978359\n",
      "1  Amsterdam     4532.541   48 hours and 3 minutes  52.367573   4.904139\n",
      "2   Valletta     3792.883  50 hours and 52 minutes  35.899237  14.514100\n",
      "3      Basel     4092.805   44 hours and 2 minutes  47.559599   7.588576\n",
      "4       Doha     2164.477  22 hours and 38 minutes  25.285447  51.531040\n"
     ]
    }
   ],
   "source": [
    "print(df)"
   ]
  },
  {
   "cell_type": "code",
   "execution_count": 456,
   "id": "bf991dcd",
   "metadata": {},
   "outputs": [
    {
     "name": "stdout",
     "output_type": "stream",
     "text": [
      "      Target  Distance_km  Duration (hour+minutes)   Latitude  Longitude   \n",
      "1  Amsterdam     4532.541   48 hours and 3 minutes  52.367573   4.904139  \\\n",
      "3      Basel     4092.805   44 hours and 2 minutes  47.559599   7.588576   \n",
      "2   Valletta     3792.883  50 hours and 52 minutes  35.899237  14.514100   \n",
      "\n",
      "    Distance  \n",
      "1  36.111567  \n",
      "3  31.287783  \n",
      "2  20.623428  \n"
     ]
    }
   ],
   "source": [
    "import numpy as np\n",
    "\n",
    "TA_lat = 32.0853\n",
    "TA_lon = 34.7818\n",
    "\n",
    "# Calculate the distance between each city and TA\n",
    "df['Distance'] = np.sqrt((df['Latitude'] - tel_aviv_lat)**2 + (df['Longitude'] - tel_aviv_lon)**2)\n",
    "\n",
    "df_sorted = df.sort_values('Distance', ascending=False)\n",
    "\n",
    "furthest_cities = df_sorted.head(3)\n",
    "\n",
    "print(furthest_cities)\n"
   ]
  }
 ],
 "metadata": {
  "kernelspec": {
   "display_name": "Python 3 (ipykernel)",
   "language": "python",
   "name": "python3"
  },
  "language_info": {
   "codemirror_mode": {
    "name": "ipython",
    "version": 3
   },
   "file_extension": ".py",
   "mimetype": "text/x-python",
   "name": "python",
   "nbconvert_exporter": "python",
   "pygments_lexer": "ipython3",
   "version": "3.10.2"
  }
 },
 "nbformat": 4,
 "nbformat_minor": 5
}
